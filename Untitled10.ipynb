{
  "cells": [
    {
      "cell_type": "markdown",
      "metadata": {
        "id": "view-in-github",
        "colab_type": "text"
      },
      "source": [
        "<a href=\"https://colab.research.google.com/github/bithy71/Email-spam-detection/blob/main/Untitled10.ipynb\" target=\"_parent\"><img src=\"https://colab.research.google.com/assets/colab-badge.svg\" alt=\"Open In Colab\"/></a>"
      ]
    },
    {
      "cell_type": "code",
      "execution_count": null,
      "metadata": {
        "colab": {
          "background_save": true,
          "base_uri": "https://localhost:8080/"
        },
        "id": "qSfIstUIzuAV",
        "outputId": "2b3f6ac9-226a-489d-fab5-cbea9d82ed9c"
      },
      "outputs": [
        {
          "metadata": {
            "tags": null
          },
          "name": "stdout",
          "output_type": "stream",
          "text": [
            "\n",
            "🧾 Result: Not Spam ✅\n",
            "\n",
            "\n",
            "🧾 Result: Not Spam ✅\n",
            "\n",
            "\n",
            "🧾 Result: Not Spam ✅\n",
            "\n",
            "\n",
            "🧾 Result: Not Spam ✅\n",
            "\n"
          ]
        }
      ],
      "source": [
        "import pandas as pd\n",
        "from sklearn.model_selection import train_test_split\n",
        "from sklearn.feature_extraction.text import TfidfVectorizer\n",
        "from sklearn.naive_bayes import MultinomialNB\n",
        "from sklearn.metrics import classification_report\n",
        "\n",
        "# Load dataset\n",
        "df = pd.read_csv(\"spam.csv\", encoding='latin-1')[['v1', 'v2']]\n",
        "df.columns = ['label', 'message']\n",
        "\n",
        "# Convert labels: 'ham' -> 0, 'spam' -> 1\n",
        "df['label'] = df['label'].map({'ham': 0, 'spam': 1})\n",
        "\n",
        "# Split data\n",
        "X_train, X_test, y_train, y_test = train_test_split(df['message'], df['label'], test_size=0.2)\n",
        "\n",
        "# Text vectorization\n",
        "vectorizer = TfidfVectorizer(stop_words='english')\n",
        "X_train_vec = vectorizer.fit_transform(X_train)\n",
        "X_test_vec = vectorizer.transform(X_test)\n",
        "\n",
        "# Train model\n",
        "model = MultinomialNB()\n",
        "model.fit(X_train_vec, y_train)\n",
        "\n",
        "# Function to predict message\n",
        "def predict_message(msg):\n",
        "    msg_vec = vectorizer.transform([msg])\n",
        "    prediction = model.predict(msg_vec)\n",
        "    return \"Spam 0\" if prediction[0] == 1 else \"Not Spam ✅\"\n",
        "\n",
        "# --------------------------\n",
        "#  USER INPUT STARTS HERE\n",
        "# --------------------------\n",
        "while True:\n",
        "    user_input = input(\"Enter your message (or type 'exit' to quit): \")\n",
        "    if user_input.lower() == 'exit':\n",
        "        break\n",
        "    result = predict_message(user_input)\n",
        "    print(f\"\\n🧾 Result: {result}\\n\")"
      ]
    }
  ],
  "metadata": {
    "colab": {
      "provenance": [],
      "authorship_tag": "ABX9TyO16A6s/mT7GXwQXZSwW0eR",
      "include_colab_link": true
    },
    "kernelspec": {
      "display_name": "Python 3",
      "name": "python3"
    },
    "language_info": {
      "name": "python"
    }
  },
  "nbformat": 4,
  "nbformat_minor": 0
}